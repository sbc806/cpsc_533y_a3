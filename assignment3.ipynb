{
 "cells": [
  {
   "attachments": {},
   "cell_type": "markdown",
   "id": "0f044a62",
   "metadata": {},
   "source": [
    "# Assignment 3: MNIST Points classification with various point-based architectures\n",
    "\n",
    "In this assignment, we will implement point-based network with PyTorch. Unlike other methods based on voxelization or multi-view projection, point-based networks take as input raw point coordinates directly. The goal of this assignment is for you to learn the popular components of point-based netwoks -- Shared MLP (PointNet), ACNe/CNe block, Set abstraction layer (PointNet++) and point convolution. We have outlined TODOs in a way that they will sort of *force* you to read the code. Hopefully it's not too hard!\n",
    "\n",
    "- **PointNet**: The very first version of point-based network.\n",
    "- **CNe/ACNe**: Point cloud networks with a focus on global message passing -- (Attentive) context normalization. \n",
    "- **PointNet++**: A network that introduce the hierarchical structure and locality into point-based networks.\n",
    "- **Point Convolution**: A network that defines the convolution for point clouds.\n",
    "\n",
    "\n",
    "### What to do?\n",
    "Walk through this notebook and edit so that it becomes your report. Most of the work would be in the separate Python files provided alongside this notebook. When you are submitting, simply zip your notebook and your python files all together and upload it to canvas. Importantly, do **NOT** include the data files, nor hidden ipython checkpoints in your zip file -- it'll make our hard drives expload.\n",
    "\n",
    "\n",
    "### Due date\n",
    "Deadline: 11/06/2023, 11:59 pm"
   ]
  },
  {
   "cell_type": "markdown",
   "id": "102833af",
   "metadata": {},
   "source": [
    "## Input pipeline \n",
    "We will continue using our MNIST POINTS dataset loader that we implemented in our first assignment."
   ]
  },
  {
   "cell_type": "code",
   "execution_count": 1,
   "id": "d386820a",
   "metadata": {},
   "outputs": [
    {
     "name": "stdout",
     "output_type": "stream",
     "text": [
      "Processing train set\n",
      "Processing test set\n",
      "MNIST found in data\n",
      "Done.\n"
     ]
    }
   ],
   "source": [
    "# Prepare the dataset MNISTPTS if you don't have. \n",
    "import numpy as np\n",
    "from utils.mnist_helper import load_mnist, load_mnistpts, dump_mnistpts\n",
    "\n",
    "data_mnist_dir = 'data' # directory saving raw MNIST image data.\n",
    "data_mnistpts_dir = 'data_dump' # directory saving point cloud.\n",
    "\n",
    "# Downloading and preprocessing MNIST dataset\n",
    "for mode in ['train', 'test']:\n",
    "    print(f'Processing {mode} set')\n",
    "    dump_mnistpts(data_mnist_dir, data_mnistpts_dir, mode)\n",
    "\n",
    "print('Done.')"
   ]
  },
  {
   "cell_type": "code",
   "execution_count": 2,
   "id": "1a11b1c5",
   "metadata": {
    "scrolled": true
   },
   "outputs": [
    {
     "name": "stdout",
     "output_type": "stream",
     "text": [
      "loading train datasets.\n",
      "Number of training samples: 48000\n",
      "Number of valid samples: 12000\n",
      "loading test datasets.\n",
      "Number of test samples: 10000\n"
     ]
    }
   ],
   "source": [
    "## Get dataloader\n",
    "from get_dataloader import get_dataloader\n",
    "from get_config import get_config\n",
    "\n",
    "config = get_config()\n",
    "\n",
    "loader_tr, loader_va = get_dataloader(config, mode='train')\n",
    "loader_te = get_dataloader(config, mode='test')[0]\n"
   ]
  },
  {
   "cell_type": "markdown",
   "id": "05f47e4f",
   "metadata": {},
   "source": [
    "## Training and testing networks\n",
    "\n",
    "Roughtly, we focus on implementing different components in following networks. Please finish the TODOs in the corresponding python scripts. Note that some of the TODOs for PointNet++ and Point Convolutions overlap and they can be implemented identically.\n",
    "\n",
    "- **FCNet**: We have finished it in assignment1. \n",
    "- **PointNet**: Using the shared MLP layer and implementing the framework.\n",
    "- **CNe/ACNe**: (Attentive) context normalization layer.\n",
    "- **PointNet++**: Set abstraction layer. (Includes k-nn implementation at `nn_pts.py`)\n",
    "- **Point Convolution**: Point Convolution.\n",
    "\n"
   ]
  },
  {
   "cell_type": "code",
   "execution_count": 3,
   "id": "cefc5f6f",
   "metadata": {},
   "outputs": [
    {
     "name": "stdout",
     "output_type": "stream",
     "text": [
      "The number of parameters in fcnet:     34.31k\n",
      "Epoch:   0, loss_avg: 2.26321, val OA: 0.27692, best val OA: 0.27692\n",
      "Epoch:   1, loss_avg: 1.95652, val OA: 0.37300, best val OA: 0.37300\n",
      "Epoch:   2, loss_avg: 1.69345, val OA: 0.44892, best val OA: 0.44892\n",
      "Epoch:   3, loss_avg: 1.54810, val OA: 0.48875, best val OA: 0.48875\n",
      "Epoch:   4, loss_avg: 1.43566, val OA: 0.52250, best val OA: 0.52250\n",
      "Epoch:   5, loss_avg: 1.34998, val OA: 0.55117, best val OA: 0.55117\n",
      "Epoch:   6, loss_avg: 1.28386, val OA: 0.57542, best val OA: 0.57542\n",
      "Epoch:   7, loss_avg: 1.23061, val OA: 0.59192, best val OA: 0.59192\n",
      "Epoch:   8, loss_avg: 1.18501, val OA: 0.60075, best val OA: 0.60075\n",
      "Epoch:   9, loss_avg: 1.14728, val OA: 0.61767, best val OA: 0.61767\n",
      "Epoch:  10, loss_avg: 1.11256, val OA: 0.63333, best val OA: 0.63333\n",
      "Epoch:  11, loss_avg: 1.07690, val OA: 0.63833, best val OA: 0.63833\n",
      "Epoch:  12, loss_avg: 1.04672, val OA: 0.64267, best val OA: 0.64267\n",
      "Epoch:  13, loss_avg: 1.02122, val OA: 0.65483, best val OA: 0.65483\n",
      "Epoch:  14, loss_avg: 0.99050, val OA: 0.66992, best val OA: 0.66992\n",
      "Epoch:  15, loss_avg: 0.96355, val OA: 0.67933, best val OA: 0.67933\n",
      "restoring logs/best_model.pth\n",
      "Test OA: 0.6829000115394592\n"
     ]
    }
   ],
   "source": [
    "# Train FCNet which we have finished in assignment1.\n",
    "\n",
    "from network import Network\n",
    "from get_model import get_model\n",
    "\n",
    "config.model = 'fcnet' # Specify the model that you would like to run. \n",
    "config.order_pts = True\n",
    "model = get_model(config)\n",
    "net = Network(model, config)\n",
    "\n",
    "# Training on train and validation set.\n",
    "net.train(loader_tr, loader_va)\n",
    "\n",
    "# Testing on test set.\n",
    "oa = net.test(loader_te)\n",
    "print(f'Test OA: {oa.item()}')"
   ]
  },
  {
   "cell_type": "markdown",
   "id": "add16e4f",
   "metadata": {},
   "source": [
    "## ACNe and CNe"
   ]
  },
  {
   "cell_type": "code",
   "execution_count": 4,
   "id": "652ad0b8",
   "metadata": {},
   "outputs": [
    {
     "name": "stdout",
     "output_type": "stream",
     "text": [
      "The number of parameters in cne:     37.04k\n",
      "Epoch:   0, loss_avg: 0.91504, val OA: 0.82475, best val OA: 0.82475\n",
      "Epoch:   1, loss_avg: 0.49894, val OA: 0.85500, best val OA: 0.85500\n",
      "Epoch:   2, loss_avg: 0.42339, val OA: 0.86692, best val OA: 0.86692\n",
      "Epoch:   3, loss_avg: 0.38659, val OA: 0.88908, best val OA: 0.88908\n",
      "Epoch:   4, loss_avg: 0.34982, val OA: 0.89500, best val OA: 0.89500\n",
      "Epoch:   5, loss_avg: 0.33327, val OA: 0.89767, best val OA: 0.89767\n",
      "Epoch:   6, loss_avg: 0.32074, val OA: 0.90133, best val OA: 0.90133\n",
      "Epoch:   7, loss_avg: 0.30847, val OA: 0.90225, best val OA: 0.90225\n",
      "Epoch:   8, loss_avg: 0.30392, val OA: 0.90883, best val OA: 0.90883\n",
      "Epoch:   9, loss_avg: 0.28756, val OA: 0.91058, best val OA: 0.91058\n",
      "Epoch:  10, loss_avg: 0.28400, val OA: 0.89967, best val OA: 0.91058\n",
      "Epoch:  11, loss_avg: 0.27992, val OA: 0.90575, best val OA: 0.91058\n",
      "Epoch:  12, loss_avg: 0.27231, val OA: 0.91692, best val OA: 0.91692\n",
      "Epoch:  13, loss_avg: 0.26894, val OA: 0.91775, best val OA: 0.91775\n",
      "Epoch:  14, loss_avg: 0.26383, val OA: 0.91583, best val OA: 0.91775\n",
      "Epoch:  15, loss_avg: 0.26060, val OA: 0.91875, best val OA: 0.91875\n",
      "restoring logs/best_model.pth\n",
      "Test OA: 0.9246999621391296\n"
     ]
    }
   ],
   "source": [
    "# Train CNe\n",
    "\n",
    "from network import Network\n",
    "from get_model import get_model\n",
    "\n",
    "config.model = 'cne'\n",
    "config.cn_opt = 'cn'\n",
    "model = get_model(config)\n",
    "net = Network(model, config)\n",
    "\n",
    "# Training on train and validation set.\n",
    "net.train(loader_tr, loader_va)\n",
    "\n",
    "# Testing on test set.\n",
    "oa = net.test(loader_te)\n",
    "print(f'Test OA: {oa.item()}')\n"
   ]
  },
  {
   "cell_type": "code",
   "execution_count": 5,
   "id": "26ee91f0",
   "metadata": {},
   "outputs": [
    {
     "name": "stdout",
     "output_type": "stream",
     "text": [
      "The number of parameters in acne:     37.11k\n",
      "Epoch:   0, loss_avg: 0.75463, val OA: 0.86883, best val OA: 0.86883\n",
      "Epoch:   1, loss_avg: 0.37352, val OA: 0.89975, best val OA: 0.89975\n",
      "Epoch:   2, loss_avg: 0.32216, val OA: 0.90492, best val OA: 0.90492\n",
      "Epoch:   3, loss_avg: 0.30031, val OA: 0.91925, best val OA: 0.91925\n",
      "Epoch:   4, loss_avg: 0.27986, val OA: 0.91342, best val OA: 0.91925\n",
      "Epoch:   5, loss_avg: 0.26677, val OA: 0.91392, best val OA: 0.91925\n",
      "Epoch:   6, loss_avg: 0.26003, val OA: 0.92583, best val OA: 0.92583\n",
      "Epoch:   7, loss_avg: 0.25145, val OA: 0.92408, best val OA: 0.92583\n",
      "Epoch:   8, loss_avg: 0.25064, val OA: 0.92150, best val OA: 0.92583\n",
      "Epoch:   9, loss_avg: 0.23911, val OA: 0.93217, best val OA: 0.93217\n",
      "Epoch:  10, loss_avg: 0.23499, val OA: 0.92533, best val OA: 0.93217\n",
      "Epoch:  11, loss_avg: 0.23378, val OA: 0.93117, best val OA: 0.93217\n",
      "Epoch:  12, loss_avg: 0.23086, val OA: 0.93033, best val OA: 0.93217\n",
      "Epoch:  13, loss_avg: 0.22411, val OA: 0.93492, best val OA: 0.93492\n",
      "Epoch:  14, loss_avg: 0.22387, val OA: 0.93258, best val OA: 0.93492\n",
      "Epoch:  15, loss_avg: 0.21950, val OA: 0.93733, best val OA: 0.93733\n",
      "restoring logs/best_model.pth\n",
      "Test OA: 0.9422999620437622\n"
     ]
    }
   ],
   "source": [
    "# Train ACNe via simply activating attention mechanism (i.e., cn ==> *a*cn)\n",
    "\n",
    "from network import Network\n",
    "from get_model import get_model\n",
    "\n",
    "config.model = 'acne'\n",
    "config.cn_opt = 'acn'\n",
    "\n",
    "model = get_model(config)\n",
    "net = Network(model, config)\n",
    "\n",
    "# Training on train and validation set.\n",
    "net.train(loader_tr, loader_va)\n",
    "\n",
    "# Testing on test set.\n",
    "oa = net.test(loader_te)\n",
    "print(f'Test OA: {oa.item()}')\n"
   ]
  },
  {
   "cell_type": "markdown",
   "id": "b2df3e65",
   "metadata": {},
   "source": [
    "## PointNet"
   ]
  },
  {
   "cell_type": "code",
   "execution_count": 6,
   "id": "2e1122a4",
   "metadata": {},
   "outputs": [
    {
     "name": "stdout",
     "output_type": "stream",
     "text": [
      "The number of parameters in pointnet:     37.04k\n",
      "Epoch:   0, loss_avg: 0.91409, val OA: 0.81533, best val OA: 0.81533\n",
      "Epoch:   1, loss_avg: 0.50138, val OA: 0.86175, best val OA: 0.86175\n",
      "Epoch:   2, loss_avg: 0.41939, val OA: 0.88208, best val OA: 0.88208\n",
      "Epoch:   3, loss_avg: 0.38266, val OA: 0.89325, best val OA: 0.89325\n",
      "Epoch:   4, loss_avg: 0.35787, val OA: 0.90333, best val OA: 0.90333\n",
      "Epoch:   5, loss_avg: 0.34213, val OA: 0.89975, best val OA: 0.90333\n",
      "Epoch:   6, loss_avg: 0.33064, val OA: 0.90267, best val OA: 0.90333\n",
      "Epoch:   7, loss_avg: 0.31927, val OA: 0.90800, best val OA: 0.90800\n",
      "Epoch:   8, loss_avg: 0.30730, val OA: 0.91017, best val OA: 0.91017\n",
      "Epoch:   9, loss_avg: 0.30415, val OA: 0.91433, best val OA: 0.91433\n",
      "Epoch:  10, loss_avg: 0.29605, val OA: 0.91250, best val OA: 0.91433\n",
      "Epoch:  11, loss_avg: 0.29124, val OA: 0.91492, best val OA: 0.91492\n",
      "Epoch:  12, loss_avg: 0.28291, val OA: 0.91700, best val OA: 0.91700\n",
      "Epoch:  13, loss_avg: 0.28081, val OA: 0.91683, best val OA: 0.91700\n",
      "Epoch:  14, loss_avg: 0.27684, val OA: 0.91917, best val OA: 0.91917\n",
      "Epoch:  15, loss_avg: 0.26835, val OA: 0.92108, best val OA: 0.92108\n",
      "restoring logs/best_model.pth\n",
      "Test OA: 0.9249999523162842\n"
     ]
    }
   ],
   "source": [
    "# Train PointNet\n",
    "\n",
    "from network import Network\n",
    "from get_model import get_model\n",
    "\n",
    "config.model = 'pointnet'\n",
    "model = get_model(config)\n",
    "net = Network(model, config)\n",
    "\n",
    "# Training on train and validation set.\n",
    "net.train(loader_tr, loader_va)\n",
    "\n",
    "# Testing on test set.\n",
    "oa = net.test(loader_te)\n",
    "print(f'Test OA: {oa.item()}')"
   ]
  },
  {
   "cell_type": "markdown",
   "id": "84755e97",
   "metadata": {},
   "source": [
    "# PointNet++ \n"
   ]
  },
  {
   "cell_type": "code",
   "execution_count": 7,
   "id": "e7e25000",
   "metadata": {},
   "outputs": [
    {
     "name": "stdout",
     "output_type": "stream",
     "text": [
      "The number of parameters in pointnet2:     39.41k\n",
      "Epoch:   0, loss_avg: 0.93575, val OA: 0.79333, best val OA: 0.79333\n",
      "Epoch:   1, loss_avg: 0.58746, val OA: 0.82725, best val OA: 0.82725\n",
      "Epoch:   2, loss_avg: 0.48754, val OA: 0.84833, best val OA: 0.84833\n",
      "Epoch:   3, loss_avg: 0.42900, val OA: 0.86817, best val OA: 0.86817\n",
      "Epoch:   4, loss_avg: 0.40367, val OA: 0.88617, best val OA: 0.88617\n",
      "Epoch:   5, loss_avg: 0.37189, val OA: 0.89433, best val OA: 0.89433\n",
      "Epoch:   6, loss_avg: 0.35075, val OA: 0.89783, best val OA: 0.89783\n",
      "Epoch:   7, loss_avg: 0.33576, val OA: 0.89858, best val OA: 0.89858\n",
      "Epoch:   8, loss_avg: 0.32607, val OA: 0.90542, best val OA: 0.90542\n",
      "Epoch:   9, loss_avg: 0.31133, val OA: 0.90067, best val OA: 0.90542\n",
      "Epoch:  10, loss_avg: 0.30428, val OA: 0.90692, best val OA: 0.90692\n",
      "Epoch:  11, loss_avg: 0.29821, val OA: 0.91125, best val OA: 0.91125\n",
      "Epoch:  12, loss_avg: 0.28844, val OA: 0.91392, best val OA: 0.91392\n",
      "Epoch:  13, loss_avg: 0.28617, val OA: 0.91517, best val OA: 0.91517\n",
      "Epoch:  14, loss_avg: 0.27607, val OA: 0.91717, best val OA: 0.91717\n",
      "Epoch:  15, loss_avg: 0.27073, val OA: 0.91992, best val OA: 0.91992\n",
      "restoring logs/best_model.pth\n",
      "Test OA: 0.9210999608039856\n"
     ]
    }
   ],
   "source": [
    "# Train PointNet++\n",
    "\n",
    "from network import Network\n",
    "from get_model import get_model\n",
    "\n",
    "config.model = 'pointnet2'\n",
    "model = get_model(config)\n",
    "net = Network(model, config)\n",
    "\n",
    "# Training on train and validation set.\n",
    "net.train(loader_tr, loader_va)\n",
    "\n",
    "# Testing on test set.\n",
    "oa = net.test(loader_te)\n",
    "print(f'Test OA: {oa.item()}')"
   ]
  },
  {
   "cell_type": "markdown",
   "id": "b4b6e9d3",
   "metadata": {},
   "source": [
    "## Point Convolution "
   ]
  },
  {
   "cell_type": "code",
   "execution_count": 8,
   "id": "b4be7dcf",
   "metadata": {},
   "outputs": [
    {
     "name": "stdout",
     "output_type": "stream",
     "text": [
      "The number of parameters in pointconv:     40.12k\n",
      "Epoch:   0, loss_avg: 1.18993, val OA: 0.70708, best val OA: 0.70708\n",
      "Epoch:   1, loss_avg: 0.81364, val OA: 0.76142, best val OA: 0.76142\n",
      "Epoch:   2, loss_avg: 0.69892, val OA: 0.79150, best val OA: 0.79150\n",
      "Epoch:   3, loss_avg: 0.61711, val OA: 0.81700, best val OA: 0.81700\n",
      "Epoch:   4, loss_avg: 0.56018, val OA: 0.83500, best val OA: 0.83500\n",
      "Epoch:   5, loss_avg: 0.51732, val OA: 0.84733, best val OA: 0.84733\n",
      "Epoch:   6, loss_avg: 0.48861, val OA: 0.86075, best val OA: 0.86075\n",
      "Epoch:   7, loss_avg: 0.44536, val OA: 0.87050, best val OA: 0.87050\n",
      "Epoch:   8, loss_avg: 0.42447, val OA: 0.88267, best val OA: 0.88267\n",
      "Epoch:   9, loss_avg: 0.39739, val OA: 0.88008, best val OA: 0.88267\n",
      "Epoch:  10, loss_avg: 0.37782, val OA: 0.89117, best val OA: 0.89117\n",
      "Epoch:  11, loss_avg: 0.36577, val OA: 0.90108, best val OA: 0.90108\n",
      "Epoch:  12, loss_avg: 0.35192, val OA: 0.89933, best val OA: 0.90108\n",
      "Epoch:  13, loss_avg: 0.34608, val OA: 0.89842, best val OA: 0.90108\n",
      "Epoch:  14, loss_avg: 0.33127, val OA: 0.90558, best val OA: 0.90558\n",
      "Epoch:  15, loss_avg: 0.32446, val OA: 0.90692, best val OA: 0.90692\n",
      "restoring logs/best_model.pth\n",
      "Test OA: 0.9054999947547913\n"
     ]
    }
   ],
   "source": [
    "# Train Point Conv\n",
    "\n",
    "from network import Network\n",
    "from get_model import get_model\n",
    "\n",
    "config.model = 'pointconv'\n",
    "model = get_model(config)\n",
    "net = Network(model, config)\n",
    "\n",
    "# Training on train and validation set.\n",
    "net.train(loader_tr, loader_va)\n",
    "\n",
    "# Testing on test set.\n",
    "oa = net.test(loader_te)\n",
    "print(f'Test OA: {oa.item()}')"
   ]
  },
  {
   "cell_type": "markdown",
   "id": "5dfcc0b1",
   "metadata": {},
   "source": [
    "## Report (10 Pts)\n",
    "\n",
    "(5 points) Please briefly discuss your findings. A quick discussion on how you find the validation performance, the convergence, and the efficiency of each method to be would suffice. \n",
    "\n",
    "(5 points) Also, is the above comparison fair? Is there anything that should be considered when comparing these methods?"
   ]
  },
  {
   "cell_type": "code",
   "execution_count": null,
   "id": "cf22212d",
   "metadata": {},
   "outputs": [],
   "source": []
  }
 ],
 "metadata": {
  "kernelspec": {
   "display_name": "a3_env",
   "language": "python",
   "name": "python3"
  },
  "language_info": {
   "codemirror_mode": {
    "name": "ipython",
    "version": 3
   },
   "file_extension": ".py",
   "mimetype": "text/x-python",
   "name": "python",
   "nbconvert_exporter": "python",
   "pygments_lexer": "ipython3",
   "version": "3.10.9"
  },
  "vscode": {
   "interpreter": {
    "hash": "93cf2782a5a98f99b5114bb459c8edd098c0ad567592dd405d48914c0ff0c642"
   }
  }
 },
 "nbformat": 4,
 "nbformat_minor": 5
}
